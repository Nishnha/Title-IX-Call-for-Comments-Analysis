{
 "cells": [
  {
   "cell_type": "markdown",
   "metadata": {},
   "source": [
    "# Summary\n",
    "This notebook generates random samples of 100 comments from each dataset.\n",
    "\n",
    "The comments are pulled at random (with a seed for reproducability) and there are no common samples between any one dataset, i.e. comments are chosen without replacement. \n",
    "\n",
    "The samples are placed into a subfolder in '/samples/{dataset_name}'. For example, a comment in the `no_attachment` dataset might be found in '/samples/no_attachment/sample1'."
   ]
  },
  {
   "cell_type": "code",
   "execution_count": 8,
   "metadata": {},
   "outputs": [],
   "source": [
    "import numpy as np\n",
    "import pandas\n",
    "import random\n",
    "import shutil"
   ]
  },
  {
   "cell_type": "markdown",
   "metadata": {},
   "source": [
    "### Generating dataset samples\n",
    "The codeblock below imports all 5 datasets created in the previous notebooks.\n",
    "\n",
    "Next, in the codeblock below that, a function is set up to generate 3 samples of 100 comments for each dataset passed in. The codeblock then saves these 3 samples to a spreadsheet where each sheet is different samples."
   ]
  },
  {
   "cell_type": "code",
   "execution_count": 9,
   "metadata": {},
   "outputs": [],
   "source": [
    "# Import the datasets from the Meta Analysis notebook.\n",
    "data_cleaned = pandas.read_json('./data/data_cleaned.json', orient='records', dtype='false')\n",
    "has_attachment = pandas.read_json('./data/has_attachment.json', orient='records', dtype='false')\n",
    "no_attachment = pandas.read_json('./data/no_attachment.json', orient='records', dtype='false')"
   ]
  },
  {
   "cell_type": "code",
   "execution_count": 10,
   "metadata": {},
   "outputs": [],
   "source": [
    "def save_to_spreadsheet(samples_array, dataset_name):\n",
    "    # Save the samples to a spreadsheet named dataset_name_samples in a directory of the same name. \n",
    "    # E.g., has_attachment samples are saved to `./sample/has_attachment/has_attachment_samples.xlsx`.\n",
    "    writer = pandas.ExcelWriter(\"./samples/\" + dataset_name + \"/\" + dataset_name + \"_samples.xlsx\")\n",
    "\n",
    "    # Write each sample of 100 comments to a separate sheet in the spreadsheet\n",
    "    samples_array[0].to_excel(writer, sheet_name=\"sample 1\")\n",
    "    samples_array[1].to_excel(writer, sheet_name=\"sample 2\")\n",
    "    samples_array[2].to_excel(writer, sheet_name=\"sample 3\")\n",
    "\n",
    "    writer.save()\n",
    "    writer.close()"
   ]
  },
  {
   "cell_type": "code",
   "execution_count": 11,
   "metadata": {},
   "outputs": [],
   "source": [
    "def generate_samples(dataset, dataset_name):\n",
    "    samples = dataset.sample(n=300, random_state=24996236)\n",
    "    samples_array = np.split(samples, 3)\n",
    "    \n",
    "    # Save the samples to a spreadsheet after generating them \n",
    "    save_to_spreadsheet(samples_array, dataset_name)"
   ]
  }
 ],
 "metadata": {
  "kernelspec": {
   "display_name": "Python 3",
   "language": "python",
   "name": "python3"
  },
  "language_info": {
   "codemirror_mode": {
    "name": "ipython",
    "version": 3
   },
   "file_extension": ".py",
   "mimetype": "text/x-python",
   "name": "python",
   "nbconvert_exporter": "python",
   "pygments_lexer": "ipython3",
   "version": "3.7.0"
  }
 },
 "nbformat": 4,
 "nbformat_minor": 2
}
