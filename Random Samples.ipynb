{
 "cells": [
  {
   "cell_type": "markdown",
   "metadata": {},
   "source": [
    "# Summary\n",
    "This notebook generates random samples of 100 comments from each dataset.\n",
    "\n",
    "The comments are pulled at random (with a seed for reproducability) and there are no common samples between any one dataset, i.e. comments are chosen without replacement. \n",
    "\n",
    "The samples are placed into a subfolder in '/samples/{dataset_name}'. For example, a comment in the `no_attachment` dataset might be found in '/samples/no_attachment/sample1'."
   ]
  },
  {
   "cell_type": "code",
   "execution_count": 5,
   "metadata": {},
   "outputs": [],
   "source": [
    "import numpy as np\n",
    "import pandas\n",
    "import random\n",
    "import shutil"
   ]
  },
  {
   "cell_type": "markdown",
   "metadata": {},
   "source": [
    "### Generating dataset samples\n",
    "The codeblock below imports all 5 datasets created in the previous notebooks.\n",
    "\n",
    "Next, in the codeblock below that, a function is set up to generate 3 samples of 100 comments for each dataset passed in. The codeblock then saves these 3 samples to a spreadsheet where each sheet is different samples."
   ]
  },
  {
   "cell_type": "code",
   "execution_count": 6,
   "metadata": {},
   "outputs": [],
   "source": [
    "# Import the datasets from the Meta Analysis notebook.\n",
    "data_cleaned = pandas.read_json('./data/data_cleaned.json', orient='records', dtype='false')\n",
    "has_attachment = pandas.read_json('./data/has_attachment.json', orient='records', dtype='false')\n",
    "no_attachment = pandas.read_json('./data/no_attachment.json', orient='records', dtype='false')"
   ]
  },
  {
   "cell_type": "code",
   "execution_count": 58,
   "metadata": {},
   "outputs": [],
   "source": [
    "def save_to_spreadsheet(samples_array, dataset_name):\n",
    "    # Save the samples to a spreadsheet named dataset_name_samples. \n",
    "    # E.g., has_attachment samples are saved to has_attachment_samples.xlsx.\n",
    "    writer = pandas.ExcelWriter(\"./samples/\" + dataset_name + \"_samples.xlsx\")\n",
    "\n",
    "    # Write each sample of 100 comments to a separate sheet in the spreadsheet\n",
    "    samples_array[0].to_excel(writer, sheet_name=\"sample 1\")\n",
    "    samples_array[1].to_excel(writer, sheet_name=\"sample 2\")\n",
    "    samples_array[2].to_excel(writer, sheet_name=\"sample 3\")\n",
    "\n",
    "    writer.save()\n",
    "    writer.close()"
   ]
  },
  {
   "cell_type": "code",
   "execution_count": 52,
   "metadata": {},
   "outputs": [],
   "source": [
    "def generate_samples(dataset, dataset_name):\n",
    "    samples = dataset.sample(n=300, random_state=24996236)\n",
    "    samples_array = np.split(samples, 3)\n",
    "    \n",
    "    # Save the samples to a spreadsheet after generating them \n",
    "    save_to_spreadsheet(samples_array, dataset_name)"
   ]
  },
  {
   "cell_type": "markdown",
   "metadata": {},
   "source": [
    "The codeblock below takes the five datasets and applies the two functions above to create a spreadsheet of samples."
   ]
  },
  {
   "cell_type": "code",
   "execution_count": 59,
   "metadata": {},
   "outputs": [
    {
     "name": "stderr",
     "output_type": "stream",
     "text": [
      "/mnt/c/Users/nish/projects/titleix/env/lib/python3.5/site-packages/xlsxwriter/worksheet.py:830: UserWarning: Ignoring URL 'https://www2.ed.gov/about/offices/list/ocr/letters/colleague-201607-504-adhd.pdf\n",
      "The%20above%20letter%20is%20essential%20for%20teachers%20and%20administrations%20to%20understand%20how%20to%20help%20students%20with%20ADHD.%20My%20son%20was%20able%20to%20qualify%20early%20for%20an%20I.E.P%20and%20now%20as%20a%20middle%20schooler,%20a%20504%20plan%20due%20to%20the%20hyperactive%20aspect%20and%20learning%20issues%20he%20presented%20with.%20However,%20we%20are%20now%20in%20a%20battle%20with%20our%20school%20system%20to%20help%20our%20daughter%20with%20largely%20inattentive%20type%20ADD%20to%20get%20the%20services%20she%20needs.%20This%20letter%20will%20help%20guide%20us%20and%20the%20educators%20as%20we%20move%20through%20this%20process.' with link or location/anchor > 255 characters since it exceeds Excel's limit for URLS\n",
      "  force_unicode(url))\n"
     ]
    }
   ],
   "source": [
    "generate_samples(data_cleaned, \"data_cleaned\")\n",
    "generate_samples(has_attachment, \"has_attachment\")\n",
    "generate_samples(no_attachment, \"no_attachment\")"
   ]
  },
  {
   "cell_type": "markdown",
   "metadata": {},
   "source": [
    "### Creating samples from the downloaded attachments (not complete)"
   ]
  },
  {
   "cell_type": "code",
   "execution_count": 74,
   "metadata": {},
   "outputs": [],
   "source": [
    "def move_to_folder(files, folder_name):\n",
    "    for file, sp-score in files:\n",
    "        try:\n",
    "            shutil.copy2('./data/attachments/' + str(file) + '.pdf', './data/samples/' + folder_name)\n",
    "        except:\n",
    "            shutil.copy2('./data/attachments/' + str(file) + '.docx', './data/samples/' + folder_name)"
   ]
  },
  {
   "cell_type": "code",
   "execution_count": 75,
   "metadata": {},
   "outputs": [],
   "source": [
    "# From attachments dataset, make 3 samples, each containing 15% of the dataset. \n",
    "# The comments are pulled randomly from the entire datasetand each time and may contain the same comment as another set.\n",
    "# Random state set for reproducability of the sets.\n",
    "\n",
    "sample = [x for x in range(len(data_attachments_only))]\n",
    "sample_size = int(len(sample) * .15)\n",
    "\n",
    "random.seed(a=24996236, version=2)\n",
    "data_attachments_only_sample_1 = random.sample(sample, sample_size)\n",
    "moveSamplesToFolder(data_attachments_only_sample_1, 'attachment_sample_1')\n",
    "\n",
    "random.seed(a=98952473, version=2)\n",
    "data_attachments_only_sample_2 = random.sample(sample, sample_size)\n",
    "moveSamplesToFolder(data_attachments_only_sample_2, 'attachment_sample_2')\n",
    "\n",
    "random.seed(a=37241857, version=2)\n",
    "data_attachments_only_sample_3 = random.sample(sample, sample_size)\n",
    "moveSamplesToFolder(data_attachments_only_sample_3, 'attachment_sample_3')"
   ]
  },
  {
   "cell_type": "code",
   "execution_count": 94,
   "metadata": {},
   "outputs": [],
   "source": [
    "f = open('./data/samples/attachment_sentiment_scores.txt', 'w+')\n",
    "f.write(data_attachments_only.to_string(columns=['sentiment']).replace('\\n', '\\r\\n'))\n",
    "f.close()"
   ]
  },
  {
   "cell_type": "code",
   "execution_count": 83,
   "metadata": {},
   "outputs": [],
   "source": [
    "# Save each dataset for checking if the sentiment score and comment_body follow a pattern\n",
    "# data_duplicates_removed_sample_1.to_json('./data/samples/data_duplicates_removed_sample_1.json', orient='records')\n",
    "# data_duplicates_removed_sample_2.to_json('./data/samples/data_duplicates_removed_sample_2.json', orient='records')\n",
    "# data_duplicates_removed_sample_3.to_json('./data/samples/data_duplicates_removed_sample_3.json', orient='records')\n",
    "\n",
    "\n",
    "writter = pandas.ExcelWriter(\"./data/samples/data_duplicates_removed_samples.xlsx\")\n",
    "\n",
    "data_duplicates_removed_sample_1.to_excel(writter, sheet_name=\"sample1\")\n",
    "data_duplicates_removed_sample_2.to_excel(writter, sheet_name=\"sample2\")\n",
    "data_duplicates_removed_sample_3.to_excel(writter, sheet_name=\"sample3\")\n",
    "\n",
    "writter.save()"
   ]
  }
 ],
 "metadata": {
  "kernelspec": {
   "display_name": "Python 3",
   "language": "python",
   "name": "python3"
  },
  "language_info": {
   "codemirror_mode": {
    "name": "ipython",
    "version": 3
   },
   "file_extension": ".py",
   "mimetype": "text/x-python",
   "name": "python",
   "nbconvert_exporter": "python",
   "pygments_lexer": "ipython3",
   "version": "3.7.0"
  }
 },
 "nbformat": 4,
 "nbformat_minor": 2
}
